{
 "cells": [
  {
   "cell_type": "markdown",
   "metadata": {},
   "source": [
    "# Chapter 1 System of Linear Equations and Matrix\n",
    "\n",
    "## 1.1 System of Linear Equations\n",
    "\n",
    "### Matrix Reduction to Row-Echelon Form\n",
    "\n"
   ]
  },
  {
   "cell_type": "code",
   "execution_count": 1,
   "metadata": {},
   "outputs": [],
   "source": [
    "import numpy as np"
   ]
  },
  {
   "cell_type": "code",
   "execution_count": 1,
   "metadata": {},
   "outputs": [],
   "source": [
    "from sympy import *\n",
    "init_printing(use_unicode=True)"
   ]
  },
  {
   "cell_type": "code",
   "execution_count": 3,
   "metadata": {},
   "outputs": [],
   "source": [
    "A=Matrix([[1/2,1/3,1,1],[1,5/3,3,3],[2,4/3,5,2]])"
   ]
  },
  {
   "cell_type": "code",
   "execution_count": 5,
   "metadata": {},
   "outputs": [
    {
     "data": {
      "image/png": "[encoded data removed]",
      "text/latex": [
       "$$\\left[\\begin{matrix}0.5 & 0.333333333333333 & 1 & 1\\\\1 & 1.66666666666667 & 3 & 3\\\\2 & 1.33333333333333 & 5 & 2\\end{matrix}\\right]$$"
      ],
      "text/plain": [
       "⎡0.5  0.333333333333333  1  1⎤\n",
       "⎢                            ⎥\n",
       "⎢ 1   1.66666666666667   3  3⎥\n",
       "⎢                            ⎥\n",
       "⎣ 2   1.33333333333333   5  2⎦"
      ]
     },
     "execution_count": 5,
     "metadata": {},
     "output_type": "execute_result"
    }
   ],
   "source": [
    "A"
   ]
  },
  {
   "cell_type": "code",
   "execution_count": 6,
   "metadata": {},
   "outputs": [
    {
     "data": {
      "image/png": "[encoded data removed]",
      "text/latex": [
       "$$\\left ( \\left[\\begin{matrix}1 & 0 & 0 & 4.0\\\\0 & 1 & 0 & 3.0\\\\0 & 0 & 1 & -2.0\\end{matrix}\\right], \\quad \\left ( 0, \\quad 1, \\quad 2\\right )\\right )$$"
      ],
      "text/plain": [
       "⎛⎡1  0  0  4.0 ⎤           ⎞\n",
       "⎜⎢             ⎥           ⎟\n",
       "⎜⎢0  1  0  3.0 ⎥, (0, 1, 2)⎟\n",
       "⎜⎢             ⎥           ⎟\n",
       "⎝⎣0  0  1  -2.0⎦           ⎠"
      ]
     },
     "execution_count": 6,
     "metadata": {},
     "output_type": "execute_result"
    }
   ],
   "source": [
    "A.rref()"
   ]
  },
  {
   "cell_type": "markdown",
   "metadata": {},
   "source": [
    "The 3x4 matrix is your matrix in RRE (watch out for floating point precision), and the 1x3 matrix lists the indices of your pivot vars."
   ]
  },
  {
   "cell_type": "markdown",
   "metadata": {},
   "source": [
    "### Steps for Gaussian Elimination\n",
    "#### Step 1: Print augmented matrix"
   ]
  },
  {
   "cell_type": "code",
   "execution_count": 21,
   "metadata": {},
   "outputs": [],
   "source": [
    "def print_agmatrix(info, m):\n",
    "    i=0; j=0; l=len(m)\n",
    "    print(info)\n",
    "    for i in range(0,l):\n",
    "        line=\"\"\n",
    "        for j in range(0,l+1):\n",
    "            line=line+str(m[i][j])+\"\\t\"\n",
    "            if j==l-1:\n",
    "                line=line+\"|\"\n",
    "        print(line)\n",
    "    print(\"\")"
   ]
  },
  {
   "cell_type": "code",
   "execution_count": 21,
   "metadata": {},
   "outputs": [],
   "source": [
    "matrix = np.array([[2.0,   0.0, - 2.0,   0.0], \n",
    "              [0.0,   2.0, - 1.0,   0.0], \n",
    "              [0.0,   1.0,   0.0,  10.0]], dtype=np.float64)"
   ]
  },
  {
   "cell_type": "code",
   "execution_count": 22,
   "metadata": {},
   "outputs": [
    {
     "ename": "TypeError",
     "evalue": "ufunc 'bitwise_xor' not supported for the input types, and the inputs could not be safely coerced to any supported types according to the casting rule ''safe''",
     "output_type": "error",
     "traceback": [
      "\u001b[0;31m---------------------------------------------------------------------------\u001b[0m",
      "\u001b[0;31mTypeError\u001b[0m                                 Traceback (most recent call last)",
      "\u001b[0;32m<ipython-input-22-b5152f6780a1>\u001b[0m in \u001b[0;36m<module>\u001b[0;34m\u001b[0m\n\u001b[0;32m----> 1\u001b[0;31m \u001b[0mswap_row\u001b[0m\u001b[0;34m(\u001b[0m\u001b[0mmatrix\u001b[0m\u001b[0;34m,\u001b[0m\u001b[0;36m0\u001b[0m\u001b[0;34m,\u001b[0m\u001b[0;36m1\u001b[0m\u001b[0;34m)\u001b[0m\u001b[0;34m\u001b[0m\u001b[0m\n\u001b[0m",
      "\u001b[0;32m<ipython-input-2-5ed13625d8f2>\u001b[0m in \u001b[0;36mswap_row\u001b[0;34m(A, i, j)\u001b[0m\n\u001b[1;32m      5\u001b[0m         \u001b[0mprint\u001b[0m\u001b[0;34m(\u001b[0m\u001b[0;34m\"Error: out of index\"\u001b[0m\u001b[0;34m)\u001b[0m\u001b[0;34m\u001b[0m\u001b[0m\n\u001b[1;32m      6\u001b[0m     \u001b[0;32melse\u001b[0m\u001b[0;34m:\u001b[0m\u001b[0;34m\u001b[0m\u001b[0m\n\u001b[0;32m----> 7\u001b[0;31m         \u001b[0mA\u001b[0m\u001b[0;34m[\u001b[0m\u001b[0mi\u001b[0m\u001b[0;34m]\u001b[0m\u001b[0;34m=\u001b[0m\u001b[0mA\u001b[0m\u001b[0;34m[\u001b[0m\u001b[0mi\u001b[0m\u001b[0;34m]\u001b[0m\u001b[0;34m^\u001b[0m\u001b[0mA\u001b[0m\u001b[0;34m[\u001b[0m\u001b[0mj\u001b[0m\u001b[0;34m]\u001b[0m\u001b[0;34m\u001b[0m\u001b[0m\n\u001b[0m\u001b[1;32m      8\u001b[0m         \u001b[0mA\u001b[0m\u001b[0;34m[\u001b[0m\u001b[0mj\u001b[0m\u001b[0;34m]\u001b[0m\u001b[0;34m=\u001b[0m\u001b[0mA\u001b[0m\u001b[0;34m[\u001b[0m\u001b[0mi\u001b[0m\u001b[0;34m]\u001b[0m\u001b[0;34m^\u001b[0m\u001b[0mA\u001b[0m\u001b[0;34m[\u001b[0m\u001b[0mj\u001b[0m\u001b[0;34m]\u001b[0m\u001b[0;34m\u001b[0m\u001b[0m\n\u001b[1;32m      9\u001b[0m         \u001b[0mA\u001b[0m\u001b[0;34m[\u001b[0m\u001b[0mi\u001b[0m\u001b[0;34m]\u001b[0m\u001b[0;34m=\u001b[0m\u001b[0mA\u001b[0m\u001b[0;34m[\u001b[0m\u001b[0mi\u001b[0m\u001b[0;34m]\u001b[0m\u001b[0;34m^\u001b[0m\u001b[0mA\u001b[0m\u001b[0;34m[\u001b[0m\u001b[0mj\u001b[0m\u001b[0;34m]\u001b[0m\u001b[0;34m\u001b[0m\u001b[0m\n",
      "\u001b[0;31mTypeError\u001b[0m: ufunc 'bitwise_xor' not supported for the input types, and the inputs could not be safely coerced to any supported types according to the casting rule ''safe''"
     ]
    }
   ],
   "source": [
    "swap_row(matrix,0,1)"
   ]
  },
  {
   "cell_type": "code",
   "execution_count": 23,
   "metadata": {},
   "outputs": [
    {
     "name": "stdout",
     "output_type": "stream",
     "text": [
      "initial matrix\n",
      "2.0\t0.0\t-2.0\t|0.0\t\n",
      "0.0\t2.0\t-1.0\t|0.0\t\n",
      "0.0\t1.0\t0.0\t|10.0\t\n",
      "\n"
     ]
    }
   ],
   "source": [
    "print_agmatrix('initial matrix', matrix)"
   ]
  },
  {
   "cell_type": "markdown",
   "metadata": {},
   "source": [
    "#### Step 2: Elementary transformation"
   ]
  },
  {
   "cell_type": "code",
   "execution_count": 24,
   "metadata": {},
   "outputs": [],
   "source": [
    "def swap(a,b):\n",
    "    t=a; a=b; b=t"
   ]
  },
  {
   "cell_type": "code",
   "execution_count": 31,
   "metadata": {},
   "outputs": [
    {
     "name": "stdout",
     "output_type": "stream",
     "text": [
      "Initial matrix\n",
      "2.0\t0.0\t-2.0\t|0.0\t\n",
      "0.0\t2.0\t-1.0\t|0.0\t\n",
      "0.0\t1.0\t0.0\t|10.0\t\n",
      "\n",
      "position: row_pos=0, col_pos=0\n",
      "选主元\n",
      "2.0\t0.0\t-2.0\t|0.0\t\n",
      "0.0\t2.0\t-1.0\t|0.0\t\n",
      "0.0\t1.0\t0.0\t|10.0\t\n",
      "\n",
      "Swap two rows\n",
      "2.0\t0.0\t-2.0\t|0.0\t\n",
      "0.0\t2.0\t-1.0\t|0.0\t\n",
      "0.0\t1.0\t0.0\t|10.0\t\n",
      "\n",
      "消元\n",
      "1.0\t0.0\t-1.0\t|0.0\t\n",
      "0.0\t2.0\t-1.0\t|0.0\t\n",
      "0.0\t1.0\t0.0\t|10.0\t\n",
      "\n",
      "position: row_pos=1, col_pos=1\n",
      "选主元\n",
      "1.0\t0.0\t-1.0\t|0.0\t\n",
      "0.0\t2.0\t-1.0\t|0.0\t\n",
      "0.0\t1.0\t0.0\t|10.0\t\n",
      "\n",
      "Swap two rows\n",
      "1.0\t0.0\t-1.0\t|0.0\t\n",
      "0.0\t2.0\t-1.0\t|0.0\t\n",
      "0.0\t1.0\t0.0\t|10.0\t\n",
      "\n",
      "消元\n",
      "1.0\t0.0\t-1.0\t|0.0\t\n",
      "0.0\t1.0\t-0.5\t|0.0\t\n",
      "0.0\t0.0\t0.5\t|10.0\t\n",
      "\n",
      "position: row_pos=2, col_pos=2\n",
      "选主元\n",
      "1.0\t0.0\t-1.0\t|0.0\t\n",
      "0.0\t1.0\t-0.5\t|0.0\t\n",
      "0.0\t0.0\t0.5\t|10.0\t\n",
      "\n",
      "Swap two rows\n",
      "1.0\t0.0\t-1.0\t|0.0\t\n",
      "0.0\t1.0\t-0.5\t|0.0\t\n",
      "0.0\t0.0\t0.5\t|10.0\t\n",
      "\n",
      "消元\n",
      "1.0\t0.0\t0.0\t|0.0\t\n",
      "0.0\t1.0\t0.0\t|0.0\t\n",
      "0.0\t0.0\t1.0\t|20.0\t\n",
      "\n",
      "方程组有解\n",
      "\n",
      "方程组及其解\n",
      "1.0\t0.0\t0.0\t|0.0\t\n",
      "0.0\t1.0\t0.0\t|0.0\t\n",
      "0.0\t0.0\t1.0\t|20.0\t\n",
      "\n",
      "x[0] = 0.0000\n",
      "x[1] = 0.0000\n",
      "x[2] = 20.0000\n"
     ]
    }
   ],
   "source": [
    "def solve(mat,b,n):\n",
    "    global m; m=mat\n",
    "    global s;\n",
    "    \n",
    "    i=0;j=0;row_pos=0;col_pos=0;ik=0;jk=0;mik=0.0;temp=0.0\n",
    "    \n",
    "    n=len(m)\n",
    "    \n",
    "    #row_pos label行循环 col_pos label列循环\n",
    "    \n",
    "    print_agmatrix('Initial matrix', m)\n",
    "    \n",
    "    while row_pos<n and col_pos<n:\n",
    "        print(\"position: row_pos=%d, col_pos=%d\" %(row_pos, col_pos))\n",
    "        # 选主元\n",
    "        mik = -1\n",
    "        for i in range(row_pos,n):\n",
    "            if abs(m[i][col_pos])>mik:\n",
    "                mik=abs(m[i][col_pos])\n",
    "                ik=i\n",
    "                \n",
    "        if mik==0:\n",
    "            col_pos+=1\n",
    "            continue\n",
    "            \n",
    "        print_agmatrix(\"选主元\",m)\n",
    "        \n",
    "        #Swap two rows\n",
    "        if ik !=row_pos:\n",
    "            for j in range(col_pos, n+1):\n",
    "                swap(m[row_pos][j], m[ik][j])\n",
    "        print_agmatrix(\"Swap two rows\", m)\n",
    "        \n",
    "        try:#elimination\n",
    "            m[row_pos][n]=m[row_pos][n]/m[row_pos][col_pos]\n",
    "        except ZeroDivisionError:\n",
    "            return 0\n",
    "        \n",
    "        j=n-1\n",
    "        while j>=col_pos:\n",
    "            m[row_pos][j]/=m[row_pos][col_pos]\n",
    "            j=j-1\n",
    "            \n",
    "        for i in range(0,n):\n",
    "            if i==row_pos:\n",
    "                continue\n",
    "            m[i][n]=m[i][n]-m[row_pos][j]*m[i][col_pos]\n",
    "            j = n - 1\n",
    "            while( j >= col_pos ):\n",
    "                m[i][j] -= m[row_pos][j] * m[i][col_pos]\n",
    "                j = j - 1\n",
    " \n",
    " \n",
    "        print_agmatrix( \"消元\", m )\n",
    "        row_pos = row_pos + 1; col_pos = col_pos + 1\n",
    " \n",
    " \n",
    "    for i in range( row_pos, n ):\n",
    "        if( abs( m[i][n] ) == 0.0 ):\n",
    "            return 0\n",
    "    return 1\n",
    " \n",
    " \n",
    "if __name__ == '__main__':\n",
    "    matrix = [[2.0,   0.0, - 2.0,   0.0], \n",
    "              [0.0,   2.0, - 1.0,   0.0], \n",
    "              [0.0,   1.0,   0.0,  10.0]]\n",
    " \n",
    " \n",
    "    i = 0; j = 0; n = 0\n",
    "    \n",
    " \n",
    "    # 求解方程组, 并输出方程组的可解信息\n",
    "    ret = solve( matrix, 0, 0 )\n",
    "    \n",
    "    if( ret!= 0 ):\n",
    "        print(\"方程组有解\\n\")\n",
    "    else:\n",
    "        print (\"方 程组无唯一解或无解\\n\")\n",
    " \n",
    " \n",
    "    # 输出方程组及其解\n",
    "    print_agmatrix( \"方程组及其解\", matrix )\n",
    "    for i in range( 0, len( m ) ):\n",
    "        print (\"x[%d] = %6.4f\" % (i, m[i][len( m )]))"
   ]
  },
  {
   "cell_type": "markdown",
   "metadata": {},
   "source": [
    "## Another method"
   ]
  },
  {
   "cell_type": "code",
   "execution_count": 2,
   "metadata": {},
   "outputs": [],
   "source": [
    "#swap rows for integer elements\n",
    "def swap_row(A,i,j):\n",
    "    m,n=A.shape\n",
    "    if i>=m or j>=m:\n",
    "        print(\"Error: out of index\")\n",
    "    else:\n",
    "        A[i]=A[i]^A[j]\n",
    "        A[j]=A[i]^A[j]\n",
    "        A[i]=A[i]^A[j]\n",
    "    return A"
   ]
  },
  {
   "cell_type": "code",
   "execution_count": 8,
   "metadata": {},
   "outputs": [
    {
     "data": {
      "text/plain": [
       "array([[ 0,  0,  2, -8, -1],\n",
       "       [ 0,  0,  0,  0,  1],\n",
       "       [ 1,  6,  2, -5, -2]])"
      ]
     },
     "execution_count": 8,
     "metadata": {},
     "output_type": "execute_result"
    }
   ],
   "source": [
    "swap_row(a,0,1)"
   ]
  },
  {
   "cell_type": "code",
   "execution_count": 2,
   "metadata": {},
   "outputs": [
    {
     "name": "stdout",
     "output_type": "stream",
     "text": [
      "增广矩阵为：\n",
      "[[ 1  6  2 -5 -2 -4]\n",
      " [ 0  0  2 -8 -1  3]\n",
      " [ 0  0  0  0  1  7]]\n",
      "方程的简化阶梯矩阵:\n",
      "[[ 1  6  0  3  0  0]\n",
      " [ 0  0  1 -4  0  5]\n",
      " [ 0  0  0  0  1  7]]\n",
      "方程的主元列为：\n",
      "[0, 2, 4]\n",
      "方程的通解是：\n",
      "x_1 = 0-6x_2-3x_4\n",
      "x_2 = x_2(free var)\n",
      "x_3 = 5+4x_4\n",
      "x_4 = x_4(free var)\n",
      "x_5 = 7\n",
      "********************\n",
      "增广矩阵为：\n",
      "[[ 1  0 -5  1]\n",
      " [ 0  1  1  4]\n",
      " [ 0  0  0  0]]\n",
      "方程的简化阶梯矩阵:\n",
      "[[ 1  0 -5  1]\n",
      " [ 0  1  1  4]\n",
      " [ 0  0  0  0]]\n",
      "方程的主元列为：\n",
      "[0, 1]\n",
      "方程的通解是：\n",
      "x_1 = 1+5x_3\n",
      "x_2 = 4-1x_3\n",
      "x_3 = x_3(free var)\n",
      "********************\n"
     ]
    }
   ],
   "source": [
    "def arguemented_mat(a, b):\n",
    "    return np.c_[a,b]\n",
    "\n",
    "# 变成阶梯矩阵\n",
    "def trape_mat(sigma):\n",
    "    m,n = sigma.shape\n",
    "    #保存主元所在的列数，一般来说，每行都有一个主元，除非某行全零\n",
    "    main_factor = []\n",
    "    main_col = 0\n",
    "    while main_col < n and len(main_factor) < m:\n",
    "        # 当行数多于列数的时候，出现所有的列已经处理完，结束\n",
    "        if main_col == n:\n",
    "            break\n",
    "        # 逐列找主元,若该列全零（从第i行往下），则没有主元\n",
    "        # 当前查找小矩阵首行所在原矩阵的行号\n",
    "        first_row = len(main_factor)\n",
    "        while main_col < n:\n",
    "            new_col = sigma[first_row:, main_col]\n",
    "            not_zeros = np.where(new_col > 0)[0]\n",
    "            # 若该列没有非零值，则该列非主元列\n",
    "            if len(not_zeros) == 0:\n",
    "                main_col += 1\n",
    "                break\n",
    "\n",
    "            # 否则通过行变换找到主元\n",
    "            else:\n",
    "                main_factor.append(main_col)\n",
    "                index = not_zeros[0]\n",
    "                # 若首个元素不是主元,需要行变换\n",
    "                if index != 0:\n",
    "                    sigma = swap_row(sigma, first_row, first_row + index)\n",
    "                # 把该主元下面的元素全部变成0\n",
    "                if first_row < m - 1:\n",
    "                    for k in xrange(first_row+1, m):\n",
    "                        times = float(sigma[k, main_col]) / sigma[first_row, main_col]\n",
    "                        sigma[k] = sigma[k] - times * sigma[first_row]\n",
    "                # 处理完当前主元列之后继续\n",
    "                main_col += 1\n",
    "                break\n",
    "    return sigma, main_factor\n",
    "\n",
    "\n",
    "# 回代求解\n",
    "def back_solve(sigma, main_factor):\n",
    "    # 判断是否有解\n",
    "    if len(main_factor) == 0:\n",
    "        print 'wrong main_factor ...'\n",
    "        return None\n",
    "    m,n = sigma.shape\n",
    "    if main_factor[-1] == n-1:\n",
    "        print 'no answer ...'\n",
    "        return None\n",
    "    # 把所有的主元元素上方的元素变成0\n",
    "    for i in range(len(main_factor)-1,-1,-1):\n",
    "        factor = sigma[i, main_factor[i]]\n",
    "        sigma[i] = sigma[i] / float(factor)\n",
    "        for j in xrange(i):\n",
    "            times = sigma[j, main_factor[i]]\n",
    "            sigma[j] = sigma[j] - float(times)*sigma[i]\n",
    "    # 先看看结果对不对\n",
    "    return sigma\n",
    "\n",
    "# 结果打印\n",
    "def print_result(sigma, main_factor):\n",
    "    if sigma is None:\n",
    "        print 'no answer ...'\n",
    "        return \n",
    "    m,n = sigma.shape\n",
    "    result = [''] * (n-1)\n",
    "    main_factor = list(main_factor)\n",
    "    for i in range(n-1):\n",
    "        # 如果不是主元列，则为自由变量\n",
    "        if i not in main_factor:\n",
    "            result[i] = 'x_' + str(i+1) + '(free var)'\n",
    "        # 否则是主元变量，从对应的行，将主元变量表示成非主元变量的线性组合\n",
    "        else:\n",
    "            # row_of_maini表示该主元所在的行\n",
    "            row_of_maini = main_factor.index(i)\n",
    "            result[i] = str(sigma[row_of_maini, -1])\n",
    "            for j in range(i+1, n-1):\n",
    "                ratio = sigma[row_of_maini, j]\n",
    "                if ratio > 0:\n",
    "                    result[i] = result[i] + '-' + str(ratio) + 'x_' + str(j+1)\n",
    "                if ratio < 0:\n",
    "                    result[i] = result[i] + '+' + str(-ratio) + 'x_' + str(j+1)\n",
    "    print '方程的通解是：\\n', \n",
    "    for i in range(n-1):\n",
    "        print 'x_' + str(i+1), '=', result[i]            \n",
    "\n",
    "\n",
    "# 得到简化的阶梯矩阵和主元列\n",
    "def solve(a,b):\n",
    "    sigma = arguemented_mat(a,b)\n",
    "    print '增广矩阵为：'\n",
    "    print sigma\n",
    "    sigma, main_factor = trape_mat(sigma)\n",
    "    sigma = back_solve(sigma, main_factor)\n",
    "    print '方程的简化阶梯矩阵:'\n",
    "    print sigma\n",
    "    print '方程的主元列为：'\n",
    "    print main_factor\n",
    "    print_result(sigma, main_factor)\n",
    "    return sigma, main_factor\n",
    "\n",
    "\n",
    "if __name__ == '__main__':\n",
    "    a = np.array([[1,6,2,-5,-2], [0,0,2,-8,-1], [0,0,0,0,1]])\n",
    "    b = np.array([-4, 3, 7])\n",
    "    sigma,mf  = solve(a,b)\n",
    "    print '*' * 20\n",
    "    a = np.array([[1,0,-5], [0,1,1], [0,0,0]])\n",
    "    b = np.array([1,4,0])\n",
    "    sigma,mf  = solve(a,b)\n",
    "    print '*' * 20"
   ]
  },
  {
   "cell_type": "code",
   "execution_count": 4,
   "metadata": {},
   "outputs": [
    {
     "data": {
      "text/plain": [
       "array([[ 0,  0,  0,  0,  1],\n",
       "       [ 0,  0,  2, -8, -1],\n",
       "       [ 1,  6,  2, -5, -2]])"
      ]
     },
     "execution_count": 4,
     "metadata": {},
     "output_type": "execute_result"
    }
   ],
   "source": [
    "swap_row(a,0,2)"
   ]
  },
  {
   "cell_type": "code",
   "execution_count": 26,
   "metadata": {},
   "outputs": [],
   "source": [
    "a = np.array([[1,6,2,-5,-2], [0,0,2,-8,-1], [0,0,0,0,1]])"
   ]
  },
  {
   "cell_type": "code",
   "execution_count": 9,
   "metadata": {},
   "outputs": [
    {
     "data": {
      "text/plain": [
       "array([1, 6, 0, 3, 1])"
      ]
     },
     "execution_count": 9,
     "metadata": {},
     "output_type": "execute_result"
    }
   ],
   "source": [
    "a[0]^a[2]"
   ]
  },
  {
   "cell_type": "code",
   "execution_count": 12,
   "metadata": {},
   "outputs": [
    {
     "data": {
      "text/plain": [
       "array([1, 6, 0, 3, 1])"
      ]
     },
     "execution_count": 12,
     "metadata": {},
     "output_type": "execute_result"
    }
   ],
   "source": [
    "a[0]^a[1]"
   ]
  },
  {
   "cell_type": "code",
   "execution_count": 14,
   "metadata": {},
   "outputs": [
    {
     "data": {
      "text/plain": [
       "array([ 1,  6,  2, -5, -2])"
      ]
     },
     "execution_count": 14,
     "metadata": {},
     "output_type": "execute_result"
    }
   ],
   "source": [
    "a[0]"
   ]
  },
  {
   "cell_type": "code",
   "execution_count": 15,
   "metadata": {},
   "outputs": [
    {
     "data": {
      "text/plain": [
       "array([ 0,  0,  2, -8, -1])"
      ]
     },
     "execution_count": 15,
     "metadata": {},
     "output_type": "execute_result"
    }
   ],
   "source": [
    "a[1]"
   ]
  },
  {
   "cell_type": "code",
   "execution_count": 16,
   "metadata": {},
   "outputs": [
    {
     "data": {
      "text/plain": [
       "array([1, 6, 0, 3, 1])"
      ]
     },
     "execution_count": 16,
     "metadata": {},
     "output_type": "execute_result"
    }
   ],
   "source": [
    "a[0]^a[1]"
   ]
  },
  {
   "cell_type": "code",
   "execution_count": 24,
   "metadata": {},
   "outputs": [],
   "source": [
    "a[[0,1]]=a[[1,0]]"
   ]
  },
  {
   "cell_type": "code",
   "execution_count": 25,
   "metadata": {},
   "outputs": [
    {
     "data": {
      "text/plain": [
       "array([[ 0,  0,  2, -8, -1],\n",
       "       [ 1,  6,  2, -5, -2],\n",
       "       [ 0,  0,  0,  0,  1]])"
      ]
     },
     "execution_count": 25,
     "metadata": {},
     "output_type": "execute_result"
    }
   ],
   "source": [
    "a"
   ]
  },
  {
   "cell_type": "code",
   "execution_count": 27,
   "metadata": {},
   "outputs": [
    {
     "data": {
      "text/plain": [
       "array([[ 1,  6,  2, -5, -2],\n",
       "       [ 0,  0,  2, -8, -1],\n",
       "       [ 0,  0,  0,  0,  1]])"
      ]
     },
     "execution_count": 27,
     "metadata": {},
     "output_type": "execute_result"
    }
   ],
   "source": [
    "a"
   ]
  },
  {
   "cell_type": "code",
   "execution_count": 28,
   "metadata": {},
   "outputs": [
    {
     "data": {
      "text/plain": [
       "array([[ 0,  0,  2, -8, -1],\n",
       "       [ 1,  6,  2, -5, -2],\n",
       "       [ 0,  0,  0,  0,  1]])"
      ]
     },
     "execution_count": 28,
     "metadata": {},
     "output_type": "execute_result"
    }
   ],
   "source": [
    "a[[0,1]]=a[[1,0]]\n",
    "a"
   ]
  },
  {
   "cell_type": "code",
   "execution_count": null,
   "metadata": {},
   "outputs": [],
   "source": []
  }
 ],
 "metadata": {
  "kernelspec": {
   "display_name": "Python 3",
   "language": "python",
   "name": "python3"
  },
  "language_info": {
   "codemirror_mode": {
    "name": "ipython",
    "version": 3
   },
   "file_extension": ".py",
   "mimetype": "text/x-python",
   "name": "python",
   "nbconvert_exporter": "python",
   "pygments_lexer": "ipython3",
   "version": "3.6.6"
  }
 },
 "nbformat": 4,
 "nbformat_minor": 2
}
